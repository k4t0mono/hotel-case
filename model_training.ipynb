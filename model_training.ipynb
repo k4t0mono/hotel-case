{
 "cells": [
  {
   "cell_type": "markdown",
   "metadata": {},
   "source": [
    "# Treinamento dos modelos"
   ]
  },
  {
   "cell_type": "code",
   "execution_count": 1,
   "metadata": {},
   "outputs": [],
   "source": [
    "import pandas as pd\n",
    "import sklearn"
   ]
  },
  {
   "cell_type": "code",
   "execution_count": 2,
   "metadata": {},
   "outputs": [
    {
     "data": {
      "text/html": [
       "<div>\n",
       "<style scoped>\n",
       "    .dataframe tbody tr th:only-of-type {\n",
       "        vertical-align: middle;\n",
       "    }\n",
       "\n",
       "    .dataframe tbody tr th {\n",
       "        vertical-align: top;\n",
       "    }\n",
       "\n",
       "    .dataframe thead th {\n",
       "        text-align: right;\n",
       "    }\n",
       "</style>\n",
       "<table border=\"1\" class=\"dataframe\">\n",
       "  <thead>\n",
       "    <tr style=\"text-align: right;\">\n",
       "      <th></th>\n",
       "      <th>cancellation</th>\n",
       "      <th>days_between_booking_arrival</th>\n",
       "      <th>year_arrival_date</th>\n",
       "      <th>week_number_arrival_date</th>\n",
       "      <th>day_of_month_arrival_date</th>\n",
       "      <th>num_weekend_nights</th>\n",
       "      <th>num_workweek_nights</th>\n",
       "      <th>num_adults</th>\n",
       "      <th>num_children</th>\n",
       "      <th>num_babies</th>\n",
       "      <th>...</th>\n",
       "      <th>distribution_channel</th>\n",
       "      <th>repeated_guest</th>\n",
       "      <th>num_previous_cancellations</th>\n",
       "      <th>num_previous_stays</th>\n",
       "      <th>changes_between_booking_arrival</th>\n",
       "      <th>id_travel_agency_booking</th>\n",
       "      <th>customer_type</th>\n",
       "      <th>avg_price</th>\n",
       "      <th>required_car_parking_spaces</th>\n",
       "      <th>total_of_special_requests</th>\n",
       "    </tr>\n",
       "  </thead>\n",
       "  <tbody>\n",
       "    <tr>\n",
       "      <th>count</th>\n",
       "      <td>102894.000000</td>\n",
       "      <td>102894.000000</td>\n",
       "      <td>102894.000000</td>\n",
       "      <td>102894.000000</td>\n",
       "      <td>102894.000000</td>\n",
       "      <td>102894.000000</td>\n",
       "      <td>102894.000000</td>\n",
       "      <td>102894.000000</td>\n",
       "      <td>102894.000000</td>\n",
       "      <td>102894.000000</td>\n",
       "      <td>...</td>\n",
       "      <td>102894.000000</td>\n",
       "      <td>102894.000000</td>\n",
       "      <td>102894.000000</td>\n",
       "      <td>102894.000000</td>\n",
       "      <td>102894.000000</td>\n",
       "      <td>102894.000000</td>\n",
       "      <td>102894.000000</td>\n",
       "      <td>102894.000000</td>\n",
       "      <td>102894.000000</td>\n",
       "      <td>102894.000000</td>\n",
       "    </tr>\n",
       "    <tr>\n",
       "      <th>mean</th>\n",
       "      <td>0.390314</td>\n",
       "      <td>111.740092</td>\n",
       "      <td>2016.156977</td>\n",
       "      <td>27.339155</td>\n",
       "      <td>15.786771</td>\n",
       "      <td>0.978181</td>\n",
       "      <td>2.589655</td>\n",
       "      <td>1.899926</td>\n",
       "      <td>0.111231</td>\n",
       "      <td>0.007697</td>\n",
       "      <td>...</td>\n",
       "      <td>1.856658</td>\n",
       "      <td>0.014034</td>\n",
       "      <td>0.077215</td>\n",
       "      <td>0.024365</td>\n",
       "      <td>0.201780</td>\n",
       "      <td>86.545532</td>\n",
       "      <td>0.453729</td>\n",
       "      <td>104.561859</td>\n",
       "      <td>0.053035</td>\n",
       "      <td>0.605458</td>\n",
       "    </tr>\n",
       "    <tr>\n",
       "      <th>std</th>\n",
       "      <td>0.487823</td>\n",
       "      <td>107.681013</td>\n",
       "      <td>0.706117</td>\n",
       "      <td>13.279990</td>\n",
       "      <td>8.794042</td>\n",
       "      <td>1.003991</td>\n",
       "      <td>1.905941</td>\n",
       "      <td>0.490891</td>\n",
       "      <td>0.411982</td>\n",
       "      <td>0.097089</td>\n",
       "      <td>...</td>\n",
       "      <td>0.519669</td>\n",
       "      <td>0.117631</td>\n",
       "      <td>0.758185</td>\n",
       "      <td>0.435759</td>\n",
       "      <td>0.624954</td>\n",
       "      <td>110.714259</td>\n",
       "      <td>0.822130</td>\n",
       "      <td>46.895098</td>\n",
       "      <td>0.225359</td>\n",
       "      <td>0.799342</td>\n",
       "    </tr>\n",
       "    <tr>\n",
       "      <th>min</th>\n",
       "      <td>0.000000</td>\n",
       "      <td>0.000000</td>\n",
       "      <td>2015.000000</td>\n",
       "      <td>1.000000</td>\n",
       "      <td>1.000000</td>\n",
       "      <td>0.000000</td>\n",
       "      <td>0.000000</td>\n",
       "      <td>0.000000</td>\n",
       "      <td>0.000000</td>\n",
       "      <td>0.000000</td>\n",
       "      <td>...</td>\n",
       "      <td>0.000000</td>\n",
       "      <td>0.000000</td>\n",
       "      <td>0.000000</td>\n",
       "      <td>0.000000</td>\n",
       "      <td>0.000000</td>\n",
       "      <td>1.000000</td>\n",
       "      <td>0.000000</td>\n",
       "      <td>0.000000</td>\n",
       "      <td>0.000000</td>\n",
       "      <td>0.000000</td>\n",
       "    </tr>\n",
       "    <tr>\n",
       "      <th>25%</th>\n",
       "      <td>0.000000</td>\n",
       "      <td>26.000000</td>\n",
       "      <td>2016.000000</td>\n",
       "      <td>17.000000</td>\n",
       "      <td>8.000000</td>\n",
       "      <td>0.000000</td>\n",
       "      <td>1.000000</td>\n",
       "      <td>2.000000</td>\n",
       "      <td>0.000000</td>\n",
       "      <td>0.000000</td>\n",
       "      <td>...</td>\n",
       "      <td>2.000000</td>\n",
       "      <td>0.000000</td>\n",
       "      <td>0.000000</td>\n",
       "      <td>0.000000</td>\n",
       "      <td>0.000000</td>\n",
       "      <td>9.000000</td>\n",
       "      <td>0.000000</td>\n",
       "      <td>73.000000</td>\n",
       "      <td>0.000000</td>\n",
       "      <td>0.000000</td>\n",
       "    </tr>\n",
       "    <tr>\n",
       "      <th>50%</th>\n",
       "      <td>0.000000</td>\n",
       "      <td>79.000000</td>\n",
       "      <td>2016.000000</td>\n",
       "      <td>28.000000</td>\n",
       "      <td>16.000000</td>\n",
       "      <td>1.000000</td>\n",
       "      <td>2.000000</td>\n",
       "      <td>2.000000</td>\n",
       "      <td>0.000000</td>\n",
       "      <td>0.000000</td>\n",
       "      <td>...</td>\n",
       "      <td>2.000000</td>\n",
       "      <td>0.000000</td>\n",
       "      <td>0.000000</td>\n",
       "      <td>0.000000</td>\n",
       "      <td>0.000000</td>\n",
       "      <td>14.000000</td>\n",
       "      <td>0.000000</td>\n",
       "      <td>96.300000</td>\n",
       "      <td>0.000000</td>\n",
       "      <td>0.000000</td>\n",
       "    </tr>\n",
       "    <tr>\n",
       "      <th>75%</th>\n",
       "      <td>1.000000</td>\n",
       "      <td>169.000000</td>\n",
       "      <td>2017.000000</td>\n",
       "      <td>38.000000</td>\n",
       "      <td>24.000000</td>\n",
       "      <td>2.000000</td>\n",
       "      <td>3.000000</td>\n",
       "      <td>2.000000</td>\n",
       "      <td>0.000000</td>\n",
       "      <td>0.000000</td>\n",
       "      <td>...</td>\n",
       "      <td>2.000000</td>\n",
       "      <td>0.000000</td>\n",
       "      <td>0.000000</td>\n",
       "      <td>0.000000</td>\n",
       "      <td>0.000000</td>\n",
       "      <td>229.000000</td>\n",
       "      <td>0.000000</td>\n",
       "      <td>127.800000</td>\n",
       "      <td>0.000000</td>\n",
       "      <td>1.000000</td>\n",
       "    </tr>\n",
       "    <tr>\n",
       "      <th>max</th>\n",
       "      <td>1.000000</td>\n",
       "      <td>629.000000</td>\n",
       "      <td>2017.000000</td>\n",
       "      <td>53.000000</td>\n",
       "      <td>31.000000</td>\n",
       "      <td>16.000000</td>\n",
       "      <td>41.000000</td>\n",
       "      <td>26.000000</td>\n",
       "      <td>10.000000</td>\n",
       "      <td>10.000000</td>\n",
       "      <td>...</td>\n",
       "      <td>4.000000</td>\n",
       "      <td>1.000000</td>\n",
       "      <td>26.000000</td>\n",
       "      <td>50.000000</td>\n",
       "      <td>18.000000</td>\n",
       "      <td>535.000000</td>\n",
       "      <td>3.000000</td>\n",
       "      <td>300.000000</td>\n",
       "      <td>3.000000</td>\n",
       "      <td>5.000000</td>\n",
       "    </tr>\n",
       "  </tbody>\n",
       "</table>\n",
       "<p>8 rows × 21 columns</p>\n",
       "</div>"
      ],
      "text/plain": [
       "        cancellation  days_between_booking_arrival  year_arrival_date  \\\n",
       "count  102894.000000                 102894.000000      102894.000000   \n",
       "mean        0.390314                    111.740092        2016.156977   \n",
       "std         0.487823                    107.681013           0.706117   \n",
       "min         0.000000                      0.000000        2015.000000   \n",
       "25%         0.000000                     26.000000        2016.000000   \n",
       "50%         0.000000                     79.000000        2016.000000   \n",
       "75%         1.000000                    169.000000        2017.000000   \n",
       "max         1.000000                    629.000000        2017.000000   \n",
       "\n",
       "       week_number_arrival_date  day_of_month_arrival_date  \\\n",
       "count             102894.000000              102894.000000   \n",
       "mean                  27.339155                  15.786771   \n",
       "std                   13.279990                   8.794042   \n",
       "min                    1.000000                   1.000000   \n",
       "25%                   17.000000                   8.000000   \n",
       "50%                   28.000000                  16.000000   \n",
       "75%                   38.000000                  24.000000   \n",
       "max                   53.000000                  31.000000   \n",
       "\n",
       "       num_weekend_nights  num_workweek_nights     num_adults   num_children  \\\n",
       "count       102894.000000        102894.000000  102894.000000  102894.000000   \n",
       "mean             0.978181             2.589655       1.899926       0.111231   \n",
       "std              1.003991             1.905941       0.490891       0.411982   \n",
       "min              0.000000             0.000000       0.000000       0.000000   \n",
       "25%              0.000000             1.000000       2.000000       0.000000   \n",
       "50%              1.000000             2.000000       2.000000       0.000000   \n",
       "75%              2.000000             3.000000       2.000000       0.000000   \n",
       "max             16.000000            41.000000      26.000000      10.000000   \n",
       "\n",
       "          num_babies  ...  distribution_channel  repeated_guest  \\\n",
       "count  102894.000000  ...         102894.000000   102894.000000   \n",
       "mean        0.007697  ...              1.856658        0.014034   \n",
       "std         0.097089  ...              0.519669        0.117631   \n",
       "min         0.000000  ...              0.000000        0.000000   \n",
       "25%         0.000000  ...              2.000000        0.000000   \n",
       "50%         0.000000  ...              2.000000        0.000000   \n",
       "75%         0.000000  ...              2.000000        0.000000   \n",
       "max        10.000000  ...              4.000000        1.000000   \n",
       "\n",
       "       num_previous_cancellations  num_previous_stays  \\\n",
       "count               102894.000000       102894.000000   \n",
       "mean                     0.077215            0.024365   \n",
       "std                      0.758185            0.435759   \n",
       "min                      0.000000            0.000000   \n",
       "25%                      0.000000            0.000000   \n",
       "50%                      0.000000            0.000000   \n",
       "75%                      0.000000            0.000000   \n",
       "max                     26.000000           50.000000   \n",
       "\n",
       "       changes_between_booking_arrival  id_travel_agency_booking  \\\n",
       "count                    102894.000000             102894.000000   \n",
       "mean                          0.201780                 86.545532   \n",
       "std                           0.624954                110.714259   \n",
       "min                           0.000000                  1.000000   \n",
       "25%                           0.000000                  9.000000   \n",
       "50%                           0.000000                 14.000000   \n",
       "75%                           0.000000                229.000000   \n",
       "max                          18.000000                535.000000   \n",
       "\n",
       "       customer_type      avg_price  required_car_parking_spaces  \\\n",
       "count  102894.000000  102894.000000                102894.000000   \n",
       "mean        0.453729     104.561859                     0.053035   \n",
       "std         0.822130      46.895098                     0.225359   \n",
       "min         0.000000       0.000000                     0.000000   \n",
       "25%         0.000000      73.000000                     0.000000   \n",
       "50%         0.000000      96.300000                     0.000000   \n",
       "75%         0.000000     127.800000                     0.000000   \n",
       "max         3.000000     300.000000                     3.000000   \n",
       "\n",
       "       total_of_special_requests  \n",
       "count              102894.000000  \n",
       "mean                    0.605458  \n",
       "std                     0.799342  \n",
       "min                     0.000000  \n",
       "25%                     0.000000  \n",
       "50%                     0.000000  \n",
       "75%                     1.000000  \n",
       "max                     5.000000  \n",
       "\n",
       "[8 rows x 21 columns]"
      ]
     },
     "execution_count": 2,
     "metadata": {},
     "output_type": "execute_result"
    }
   ],
   "source": [
    "df = pd.read_csv('cancellation_prediction.csv')\n",
    "df = df.loc[:, df.columns != 'id_person_booking']\n",
    "df.dropna(how='any', inplace=True)\n",
    "df.describe()"
   ]
  },
  {
   "cell_type": "code",
   "execution_count": 3,
   "metadata": {},
   "outputs": [],
   "source": [
    "month_number = {'January': 1, 'February': 2, 'March': 3, 'April': 4, 'May': 5, 'June': 6, 'July': 7, 'August': 8, 'September': 9, 'October': 10, 'November': 11, 'December': 12}"
   ]
  },
  {
   "cell_type": "code",
   "execution_count": 4,
   "metadata": {},
   "outputs": [],
   "source": [
    "df['month'] = df['month_arrival_date'].apply(lambda x: month_number[x])"
   ]
  },
  {
   "cell_type": "code",
   "execution_count": 5,
   "metadata": {},
   "outputs": [],
   "source": [
    "no_change_columns = [\n",
    "    'days_between_booking_arrival', 'market_segment', 'distribution_channel', 'num_previous_cancellations',\n",
    "    'total_of_special_requests', 'required_car_parking_spaces', 'changes_between_booking_arrival', 'repeated_guest',\n",
    "    'year_arrival_date', 'month'\n",
    "]"
   ]
  },
  {
   "cell_type": "code",
   "execution_count": 6,
   "metadata": {},
   "outputs": [],
   "source": [
    "dummies_columns = [\n",
    "    'type'\n",
    "]"
   ]
  },
  {
   "cell_type": "code",
   "execution_count": 7,
   "metadata": {},
   "outputs": [],
   "source": [
    "X = pd.concat((pd.DataFrame(), *[ df[x] for x in no_change_columns ], *[ pd.get_dummies(df[x]) for x in dummies_columns ]), axis=1)\n",
    "Y = df.loc[:, 'cancellation']"
   ]
  },
  {
   "cell_type": "markdown",
   "metadata": {},
   "source": [
    "## Cross-validation não estratificada com todos os dados"
   ]
  },
  {
   "cell_type": "code",
   "execution_count": 8,
   "metadata": {},
   "outputs": [],
   "source": [
    "from sklearn.model_selection import cross_validate, ShuffleSplit\n",
    "from sklearn.naive_bayes import GaussianNB\n",
    "from sklearn.tree import DecisionTreeClassifier\n",
    "from sklearn.ensemble import AdaBoostClassifier, ExtraTreesClassifier\n",
    "import numpy as np"
   ]
  },
  {
   "cell_type": "markdown",
   "metadata": {},
   "source": [
    "- Os modelos serão testados utilizando Cross-validation e Shuffle Split\n",
    "- Os dados de treinamento serão embaralhados antes de serem divididos em 10 partições, treinados em 9 e testado em 1\n",
    "- Será utilizada a métrica F1 para avaliar os modelos"
   ]
  },
  {
   "cell_type": "code",
   "execution_count": 9,
   "metadata": {},
   "outputs": [
    {
     "data": {
      "text/plain": [
       "0.5977106639901562"
      ]
     },
     "execution_count": 9,
     "metadata": {},
     "output_type": "execute_result"
    }
   ],
   "source": [
    "results = cross_validate(GaussianNB(), X, Y, scoring=['f1'], cv=ShuffleSplit(random_state=33))\n",
    "np.mean(results['test_f1'])"
   ]
  },
  {
   "cell_type": "code",
   "execution_count": 10,
   "metadata": {},
   "outputs": [
    {
     "data": {
      "text/plain": [
       "0.7449795957303812"
      ]
     },
     "execution_count": 10,
     "metadata": {},
     "output_type": "execute_result"
    }
   ],
   "source": [
    "results = cross_validate(DecisionTreeClassifier(), X, Y, scoring=['f1'], cv=ShuffleSplit(random_state=33))\n",
    "np.mean(results['test_f1'])"
   ]
  },
  {
   "cell_type": "code",
   "execution_count": 12,
   "metadata": {},
   "outputs": [
    {
     "data": {
      "text/plain": [
       "0.6477055976417729"
      ]
     },
     "execution_count": 12,
     "metadata": {},
     "output_type": "execute_result"
    }
   ],
   "source": [
    "results = cross_validate(AdaBoostClassifier(), X, Y, scoring=['f1'], cv=ShuffleSplit(random_state=33))\n",
    "np.mean(results['test_f1'])"
   ]
  },
  {
   "cell_type": "code",
   "execution_count": 13,
   "metadata": {},
   "outputs": [
    {
     "data": {
      "text/plain": [
       "0.7514774137738974"
      ]
     },
     "execution_count": 13,
     "metadata": {},
     "output_type": "execute_result"
    }
   ],
   "source": [
    "results = cross_validate(ExtraTreesClassifier(), X, Y, scoring=['f1'], cv=ShuffleSplit(random_state=33))\n",
    "np.mean(results['test_f1'])"
   ]
  },
  {
   "cell_type": "markdown",
   "metadata": {},
   "source": [
    "- O melhor resultado foi apresentado com `ExtraTreesClassifier` com 0.75 de F1, próximo do `DecisionTreeClassifier` com 0.75. Sem qualquer tunning de hiper-parâmentros, os algorítmos de árvores parecem convergir com dados apresentados\n",
    "- Uma busca nos hiper-parâmentros ou mudaça nos dados podem melhorar os resultados\n",
    "- O NaiveBayes não apresentou resultado bons, provavelmente devido a baixa correlação entre as features\n",
    "- Uma árvore de decisão consegue selecionar as features que vão melhor separar os dados nas classes dadas, o que pode ser melhor para esse cenário"
   ]
  },
  {
   "cell_type": "markdown",
   "metadata": {},
   "source": [
    "## Treino separado por ano"
   ]
  },
  {
   "cell_type": "markdown",
   "metadata": {},
   "source": [
    "- Treinar com os dados de 2015 e testar com 2016, 2017\n",
    "- Treinar com os dados de 2015,2016 e testar com 2017"
   ]
  },
  {
   "cell_type": "code",
   "execution_count": 14,
   "metadata": {},
   "outputs": [],
   "source": [
    "from sklearn.metrics import f1_score"
   ]
  },
  {
   "cell_type": "code",
   "execution_count": 15,
   "metadata": {},
   "outputs": [],
   "source": [
    "idx_15 = X.query('year_arrival_date == 2015').index\n",
    "idx_16 = X.query('year_arrival_date == 2016').index\n",
    "idx_17 = X.query('year_arrival_date == 2017').index"
   ]
  },
  {
   "cell_type": "code",
   "execution_count": 16,
   "metadata": {},
   "outputs": [],
   "source": [
    "train_x15 = X.loc[idx_15]\n",
    "train_y15 = Y.loc[idx_15]\n",
    "\n",
    "test_x1617 = X.loc[idx_16.append(idx_17)]\n",
    "test_y1617 = Y.loc[idx_16.append(idx_17)]"
   ]
  },
  {
   "cell_type": "code",
   "execution_count": 17,
   "metadata": {},
   "outputs": [
    {
     "data": {
      "text/plain": [
       "0.3587420636394014"
      ]
     },
     "execution_count": 17,
     "metadata": {},
     "output_type": "execute_result"
    }
   ],
   "source": [
    "dtc = DecisionTreeClassifier()\n",
    "dtc.fit(train_x15, train_y15)\n",
    "yy = dtc.predict(test_x1617)\n",
    "f1_score(test_y1617, yy)"
   ]
  },
  {
   "cell_type": "code",
   "execution_count": 18,
   "metadata": {},
   "outputs": [],
   "source": [
    "train_x1516 = X.loc[idx_15.append(idx_16)]\n",
    "train_y1516 = Y.loc[idx_15.append(idx_16)]\n",
    "\n",
    "test_x17 = X.loc[idx_17]\n",
    "test_y17 = Y.loc[idx_17]"
   ]
  },
  {
   "cell_type": "code",
   "execution_count": 19,
   "metadata": {},
   "outputs": [
    {
     "data": {
      "text/plain": [
       "0.4832091114647014"
      ]
     },
     "execution_count": 19,
     "metadata": {},
     "output_type": "execute_result"
    }
   ],
   "source": [
    "dtc = DecisionTreeClassifier()\n",
    "dtc.fit(train_x1516, train_y1516)\n",
    "yy = dtc.predict(test_x17)\n",
    "f1_score(test_y17, yy)"
   ]
  },
  {
   "cell_type": "markdown",
   "metadata": {},
   "source": [
    "- Como os dados não parecem ter uma grande variação de ano a ano, limitar a quantide de dados para o treinamento vai limitar a qualidade do modelo\n",
    "- Um treinamento separado por tempo seria mais indicado para séries temporais em que os valores anteriores têm forte correlação com os valores futuros\n",
    "- No caso desses dados, um treinameto com todos os dados se mostrou mais vantajoso"
   ]
  },
  {
   "cell_type": "markdown",
   "metadata": {},
   "source": [
    "## Conclusão"
   ]
  },
  {
   "cell_type": "markdown",
   "metadata": {},
   "source": [
    "- Os dados não apresentam correlação forte entre as features, o que pode indicar que um modelo baseado em probabilidade (tipo Naive Bayes) não apresentaria bons resultados\n",
    "- Um árvore de decisão, apesar de simples conseguiu resultados bons, 0.75 de F1\n",
    "- Os resultados poderiam ser melhorados com fine tunning dos hiper-parâmetros ou o uso de ensemble de árvores (como o XGBoost)\n",
    "- Com base na exploração dos dados, as seguintes hipóteses foram formuladas:\n",
    "  - O tempo entre a data que foi feita a reserva e a data da chegada é correlacionado com o cacelamento\n",
    "    - uma maior chance do cliente se arrepender e cancelar\n",
    "  - O cliente fazer pedidos especiais diminui a chance de cancelamento\n",
    "    - se um cliente estiver mais engajado existe menos chance de cancelar\n",
    "  - Os cancelamentos são menores durante o fim/começo do ano\n",
    "    - festas de fim de ano\n",
    "  - A taxa de cancelamento parece ser consistente ano a ano"
   ]
  }
 ],
 "metadata": {
  "interpreter": {
   "hash": "ed4e0d0a8275c7919374c4c7a090b30fc0b703a292f6275f8721210d8353d1e5"
  },
  "kernelspec": {
   "display_name": "Python 3.10.4 ('dhauz-pfUR_dQg')",
   "language": "python",
   "name": "python3"
  },
  "language_info": {
   "codemirror_mode": {
    "name": "ipython",
    "version": 3
   },
   "file_extension": ".py",
   "mimetype": "text/x-python",
   "name": "python",
   "nbconvert_exporter": "python",
   "pygments_lexer": "ipython3",
   "version": "3.10.4"
  },
  "orig_nbformat": 4
 },
 "nbformat": 4,
 "nbformat_minor": 2
}
